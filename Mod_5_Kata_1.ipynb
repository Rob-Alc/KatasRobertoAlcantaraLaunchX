{
 "cells": [
  {
   "cell_type": "markdown",
   "metadata": {},
   "source": [
    "# Se cambiaron nombres de las variables\n",
    "# se agregó texto a la salida print()\n",
    "# Se puso nombre al programa\n",
    "# Se modificó la salida de prin()\n",
    "# se agregó abs() a la salida de kilómetros\n",
    "# Crear variables para almacenar las dos distancias\n",
    "# ¡Asegúrate de quitar las comas!\n",
    "# Quitar los puntos"
   ]
  },
  {
   "cell_type": "code",
   "execution_count": 1,
   "metadata": {},
   "outputs": [],
   "source": [
    "distancia_planeta_uno = 149597870\n",
    "distancia_planeta_dos = 778547200\n"
   ]
  },
  {
   "cell_type": "markdown",
   "metadata": {},
   "source": [
    "# Calcular la distancia entre planetas"
   ]
  },
  {
   "cell_type": "code",
   "execution_count": 7,
   "metadata": {},
   "outputs": [
    {
     "name": "stdout",
     "output_type": "stream",
     "text": [
      "La distancia entre ambos planetas es de: 628949330 kilómetros.\n",
      "Así mismo, la distancia, expresada en millas, entre ambos planetas es de: 390577533.93 millas.\n"
     ]
    }
   ],
   "source": [
    "distancia_km = distancia_planeta_dos - distancia_planeta_uno\n",
    "print(\"La distancia entre ambos planetas es de: \" +str(distancia_km) + \" kilómetros.\")\n",
    "\n",
    "distancia_mi = distancia_km * 0.621\n",
    "print(\"Así mismo, la distancia, expresada en millas, entre ambos planetas es de: \" +str(distancia_mi) + \" millas.\")\n"
   ]
  },
  {
   "cell_type": "markdown",
   "metadata": {},
   "source": [
    "# Almacenar las entradas del usuario"
   ]
  },
  {
   "cell_type": "code",
   "execution_count": 16,
   "metadata": {},
   "outputs": [
    {
     "name": "stdout",
     "output_type": "stream",
     "text": [
      "Programa para calcular la distancia entre dos plaentas\n"
     ]
    }
   ],
   "source": [
    "print(\"Programa para calcular la distancia entre dos plaentas\")\n",
    "planeta_uno = input('Introduzca la distancia desde el sol para el PRIMER planeta en km: ')\n",
    "planeta_dos = input('Introduzca la distancia desde el sol para el SEGUNDO planeta en km: ')"
   ]
  },
  {
   "cell_type": "markdown",
   "metadata": {},
   "source": [
    "# Convierte las cadenas de ambos planetas a números enteros\n"
   ]
  },
  {
   "cell_type": "code",
   "execution_count": 17,
   "metadata": {},
   "outputs": [],
   "source": [
    "planeta_uno = int(planeta_uno)\n",
    "planeta_dos = int(planeta_dos)"
   ]
  },
  {
   "cell_type": "code",
   "execution_count": 21,
   "metadata": {},
   "outputs": [
    {
     "name": "stdout",
     "output_type": "stream",
     "text": [
      "La distancia entre ambos planetas es de: 3061600000 kilómetros.\n",
      "Así mismo, la distancia, expresada en millas, entre ambos planetas es de: 1901253600.0 millas.\n"
     ]
    }
   ],
   "source": [
    "# Realizar el cálculo y determinar el valor absoluto\n",
    "distancia_km = planeta_dos - planeta_uno\n",
    "print(\"La distancia entre ambos planetas es de: \" + str(abs(distancia_km)) + \" kilómetros.\")\n",
    "\n",
    "# Convertir de KM a Millas\n",
    "distancia_mi = distancia_km * 0.621\n",
    "print(\"Así mismo, la distancia, expresada en millas, entre ambos planetas es de: \" + str(abs(distancia_mi))+ \" millas.\")\n",
    "# print(abs(distancia_mi))\n"
   ]
  }
 ],
 "metadata": {
  "interpreter": {
   "hash": "aee8b7b246df8f9039afb4144a1f6fd8d2ca17a180786b69acc140d282b71a49"
  },
  "kernelspec": {
   "display_name": "Python 3.10.2 64-bit",
   "language": "python",
   "name": "python3"
  },
  "language_info": {
   "codemirror_mode": {
    "name": "ipython",
    "version": 3
   },
   "file_extension": ".py",
   "mimetype": "text/x-python",
   "name": "python",
   "nbconvert_exporter": "python",
   "pygments_lexer": "ipython3",
   "version": "3.10.2"
  },
  "orig_nbformat": 4
 },
 "nbformat": 4,
 "nbformat_minor": 2
}
