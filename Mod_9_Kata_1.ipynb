{
 "cells": [
  {
   "cell_type": "markdown",
   "metadata": {},
   "source": [
    "Ejercicio 1"
   ]
  },
  {
   "cell_type": "code",
   "execution_count": 9,
   "metadata": {},
   "outputs": [],
   "source": [
    "# Función para leer 3 tanques de combustible y muestre el promedio\n",
    "\n",
    "def generate_report(tanqe_principal, tanque_externo, tanque_hidrogeno):\n",
    "    promedio_total = (tanqe_principal + tanque_externo + tanque_hidrogeno) / 3\n",
    "    return f\"\"\"    Reporte de combustible:\n",
    "    Promedio:             {promedio_total} %\n",
    "    Tanque Principal:     {tanqe_principal} %\n",
    "    Tanque Externo:       {tanque_externo} %\n",
    "    Tanque de Hidrógeno:  {tanque_hidrogeno} % \n",
    "    \"\"\"\n"
   ]
  },
  {
   "cell_type": "code",
   "execution_count": 10,
   "metadata": {},
   "outputs": [
    {
     "name": "stdout",
     "output_type": "stream",
     "text": [
      "    Reporte de combustible:\n",
      "    Promedio:             78.33333333333333 %\n",
      "    Tanque Principal:     80 %\n",
      "    Tanque Externo:       70 %\n",
      "    Tanque de Hidrógeno:  85 % \n",
      "    \n"
     ]
    }
   ],
   "source": [
    "# Llamamos a la función que genera el reporte print(funcion(tanque1, tanque2, tanque3))\n",
    "print(generate_report(80, 70, 85))\n"
   ]
  },
  {
   "cell_type": "code",
   "execution_count": 11,
   "metadata": {},
   "outputs": [
    {
     "data": {
      "text/plain": [
       "82.0"
      ]
     },
     "execution_count": 11,
     "metadata": {},
     "output_type": "execute_result"
    }
   ],
   "source": [
    "# Función promedio \n",
    "def average(values):\n",
    "    total = sum(values)\n",
    "    number_of_items = len(values)\n",
    "    return total / number_of_items\n",
    "\n",
    "# Test the averaging function with a list of integers:\n",
    "average([80, 85, 81]) \n"
   ]
  },
  {
   "cell_type": "code",
   "execution_count": 12,
   "metadata": {},
   "outputs": [
    {
     "data": {
      "text/plain": [
       "82.0"
      ]
     },
     "execution_count": 12,
     "metadata": {},
     "output_type": "execute_result"
    }
   ],
   "source": [
    "# Función promedio \n",
    "def average(values):\n",
    "    total = sum(values)\n",
    "    number_of_items = len(values)\n",
    "    return total / number_of_items\n",
    "\n",
    "# Test the averaging function with a list of integers:\n",
    "average([80, 85, 81]) \n"
   ]
  },
  {
   "cell_type": "code",
   "execution_count": 13,
   "metadata": {},
   "outputs": [
    {
     "name": "stdout",
     "output_type": "stream",
     "text": [
      "    Reporte de combustible:\n",
      "    Promedio:            78.0 %\n",
      "    Tanque Principal:    88 %\n",
      "    Tanque Externo:      76 %\n",
      "    Tanque de Hidrógeno: 70 % \n",
      "    \n"
     ]
    }
   ],
   "source": [
    "# Actualiza la función\n",
    "def generate_report(tanqe_principal, tanque_externo, tanque_hidrogeno):\n",
    "    return f\"\"\"    Reporte de combustible:\n",
    "    Promedio:            {average([tanqe_principal, tanque_externo, tanque_hidrogeno])} %\n",
    "    Tanque Principal:    {tanqe_principal} %\n",
    "    Tanque Externo:      {tanque_externo} %\n",
    "    Tanque de Hidrógeno: {tanque_hidrogeno} % \n",
    "    \"\"\"\n",
    "\n",
    "# Call the updated function again with different values\n",
    "print(generate_report(88, 76, 70))\n"
   ]
  },
  {
   "cell_type": "markdown",
   "metadata": {},
   "source": [
    "Ejercicio 2"
   ]
  },
  {
   "cell_type": "code",
   "execution_count": 14,
   "metadata": {},
   "outputs": [
    {
     "name": "stdout",
     "output_type": "stream",
     "text": [
      "\n",
      "    Misión a Luna\n",
      "    Tiempo total del viaje: 65 minutos.\n",
      "    Combustible disponible: 500000 galones.\n",
      "    \n"
     ]
    }
   ],
   "source": [
    "# Función con un informe preciso de la misión. Considera hora de prelanzamiento, tiempo de vuelo, destino, tanque externo y tanque interno\n",
    "\n",
    "def reporte_de_mision(hora_prelanzamiento, tiempo_de_vuelo, destino, tanque_externo, tanque_principal):\n",
    "    return f\"\"\"\n",
    "    Misión a {destino}\n",
    "    Tiempo total de la Misión: {hora_prelanzamiento + tiempo_de_vuelo} minutos.\n",
    "    Combustible disponible: {tanque_externo + tanque_principal} galones.\n",
    "    \"\"\"\n",
    "\n",
    "print(reporte_de_mision(14, 51, \"Luna\", 200000, 300000))"
   ]
  },
  {
   "cell_type": "code",
   "execution_count": 15,
   "metadata": {},
   "outputs": [
    {
     "name": "stdout",
     "output_type": "stream",
     "text": [
      "\n",
      "    Misión a Luna\n",
      "    Tiempo total de la Misión: 76 minutos.\n",
      "    Combustible disponible: 500000\n",
      "    \n"
     ]
    }
   ],
   "source": [
    "# Escribe tu nueva función de reporte considerando lo anterior\n",
    "\n",
    "def reporte_de_mision(destino, *minutos, **combustible):\n",
    "    return f\"\"\"\n",
    "    Misión a {destino}\n",
    "    Tiempo total de la Misión: {sum(minutos)} minutos.\n",
    "    Combustible disponible: {sum(combustible.values())}\n",
    "    \"\"\"\n",
    "\n",
    "print(reporte_de_mision(\"Luna\", 10, 15, 51, principal=300000, externo=200000))\n"
   ]
  },
  {
   "cell_type": "code",
   "execution_count": 19,
   "metadata": {},
   "outputs": [
    {
     "name": "stdout",
     "output_type": "stream",
     "text": [
      "\n",
      "    Misión a Luna\n",
      "    Tiempo total de la Misión: 74 minutos.\n",
      "    Combustible disponible: 500000\n",
      "    Tanque Principal  --> 300000 galones disponibles.\n",
      "    Tanque Externo  --> 200000 galones disponibles.\n",
      "    \n"
     ]
    }
   ],
   "source": [
    "# Escribe tu nueva función\n",
    "\n",
    "def reporte_de_mision(destino, *minutos, **combustible):\n",
    "    main_report = f\"\"\"\n",
    "    Misión a {destino}\n",
    "    Tiempo total de la Misión: {sum(minutos)} minutos.\n",
    "    Combustible disponible: {sum(combustible.values())}\n",
    "    \"\"\"\n",
    "    for nombre_tanque, galones in combustible.items():\n",
    "        main_report += f\"Tanque {nombre_tanque}  --> {galones} galones disponibles.\\n    \" # dar espacios patra alinear\n",
    "    return main_report\n",
    "\n",
    "print(reporte_de_mision(\"Luna\", 8, 11, 55, Principal=300000, Externo=200000))"
   ]
  }
 ],
 "metadata": {
  "interpreter": {
   "hash": "aee8b7b246df8f9039afb4144a1f6fd8d2ca17a180786b69acc140d282b71a49"
  },
  "kernelspec": {
   "display_name": "Python 3.10.2 64-bit",
   "language": "python",
   "name": "python3"
  },
  "language_info": {
   "codemirror_mode": {
    "name": "ipython",
    "version": 3
   },
   "file_extension": ".py",
   "mimetype": "text/x-python",
   "name": "python",
   "nbconvert_exporter": "python",
   "pygments_lexer": "ipython3",
   "version": "3.10.2"
  },
  "orig_nbformat": 4
 },
 "nbformat": 4,
 "nbformat_minor": 2
}
