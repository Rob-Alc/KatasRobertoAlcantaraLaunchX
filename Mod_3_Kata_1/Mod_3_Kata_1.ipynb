{
 "cells": [
  {
   "cell_type": "markdown",
   "metadata": {},
   "source": [
    "# Añadir el código necesario para crear una variable que guarde la velocidad del asteroide.\n",
    "# Escribe una expresión de prueba para calcular si necesita una advertencia.\n",
    "# Agregue las instrucciones que se ejecutarán si la expresión de prueba es true o false.\n"
   ]
  },
  {
   "cell_type": "code",
   "execution_count": null,
   "metadata": {},
   "outputs": [],
   "source": [
    "print('        === *** === P A A C T === *** ===')\n",
    "print('Programa de Alerta para Asteroides Cercanos a la Tierra')\n",
    "asteroide = input('Escriba el nombre del Asteroide: ')\n",
    "velocidad = input('¿Qué velocidad presenta? ')\n",
    "if int(velocidad) >= 25 :\n",
    "    print('El asteroide: ' +\"'\"+ str(asteroide) + \"'\"+',rebasó la atmósfera a una velocidad de: ' + str(velocidad) + ' km/s, ¡¡TENGAMOS CUIDADO!!')\n",
    "else :\n",
    "    print('No existe peligro con el Asteroide '+ \"'\" + str(asteroide) + \"'\" + ', ya que su velocidad es de ' + str(velocidad) + ' km/s.')"
   ]
  },
  {
   "cell_type": "markdown",
   "metadata": {},
   "source": [
    "# Agrega el código para crear una variable para un asteroide que viaja a 19 km/s\n",
    "# Escribe varias expresiones de prueba para determinar si puedes ver el rayo de luz desde la tierra\n",
    "# Agrega las instrucciones que se ejecutarán si las expresiones de prueba son True o False"
   ]
  },
  {
   "cell_type": "code",
   "execution_count": null,
   "metadata": {},
   "outputs": [],
   "source": [
    "print('        === *** === P A A C T === *** ===')\n",
    "print('Programa de Alerta para Asteroides Cercanos a la Tierra')\n",
    "asteroide = input('Escriba el nombre del Asteroide: ')\n",
    "velocidad = input('¿Qué velocidad presenta? ')\n",
    "if int(velocidad) > 20 :\n",
    "    print('Vean el cielo, el Asteroide ' + \"'\" + str(asteroide) + \"'\" + ', ha dejado una estela de luz.')\n",
    "elif int(velocidad) == 20 :\n",
    "    print('Vean el cielo, el Asteroide ' + \"'\" + str(asteroide) + \"'\" + ', ha dejado una estela de luz.')\n",
    "else :\n",
    "        print('El Asteroide ' + \"'\" + str(asteroide) + \"'\" + ', NO presenta peligro alguno.')\n"
   ]
  },
  {
   "cell_type": "markdown",
   "metadata": {},
   "source": [
    "# Agrega el código para crear nuevas variables para la velocidad y el tamaño del asteroide\n",
    "# Para probar el código, prueba con varias velocidades y tamaños\n",
    "# Escribe varias expresiones de prueba o combinaciones de expresiones de prueba para determinar qué mensaje se debe enviar a Tierra.\n"
   ]
  },
  {
   "cell_type": "code",
   "execution_count": null,
   "metadata": {},
   "outputs": [],
   "source": [
    "print('        === *** === P A A C T === *** ===')\n",
    "print('Programa de Alerta para Asteroides Cercanos a la Tierra')\n",
    "asteroide = input('Escriba el nombre del Asteroide:  ')\n",
    "velocidad = input('¿Qué velocidad en km/s presenta? ')\n",
    "diametro = input('¿Qué diámetro en metros tiene? ')\n",
    "\n",
    "if int(velocidad) > 25 and int(diametro) > 25:\n",
    "    print('El asteroide: ' +\"'\"+ str(asteroide) + \"'\"+',presenta una velocidad de: ' + str(velocidad) + ' km/s, y un diámetro de: ' +str(diametro) + ' metros, ¡¡TENGAMOS CUIDADO!!')\n",
    "elif int(velocidad) >= 20 :\n",
    "     print('Vean el cielo, el Asteroide ' + \"'\" + str(asteroide) + \"'\" + ', ha dejado una estela de luz.')\n",
    "elif int(diametro) < 25 :\n",
    "     print('No existe peligro con el Asteroide '+ \"'\" + str(asteroide) + \"'\" + ', ya que su diámetro es de ' + str(diámetro) + ' metros')\n",
    "else:\n",
    "      print('El Asteroide ' + \"'\" + str(asteroide) + \"'\" + ', NO presenta peligro alguno.')"
   ]
  }
 ],
 "metadata": {
  "interpreter": {
   "hash": "aee8b7b246df8f9039afb4144a1f6fd8d2ca17a180786b69acc140d282b71a49"
  },
  "kernelspec": {
   "display_name": "Python 3.10.2 64-bit",
   "language": "python",
   "name": "python3"
  },
  "language_info": {
   "codemirror_mode": {
    "name": "ipython",
    "version": 3
   },
   "file_extension": ".py",
   "mimetype": "text/x-python",
   "name": "python",
   "nbconvert_exporter": "python",
   "pygments_lexer": "ipython3",
   "version": "3.10.2"
  },
  "orig_nbformat": 4
 },
 "nbformat": 4,
 "nbformat_minor": 2
}
